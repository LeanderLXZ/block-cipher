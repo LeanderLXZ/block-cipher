{
 "nbformat": 4,
 "nbformat_minor": 2,
 "metadata": {
  "language_info": {
   "name": "python",
   "codemirror_mode": {
    "name": "ipython",
    "version": 3
   },
   "version": "3.7.4-final"
  },
  "orig_nbformat": 2,
  "file_extension": ".py",
  "mimetype": "text/x-python",
  "name": "python",
  "npconvert_exporter": "python",
  "pygments_lexer": "ipython3",
  "version": 3,
  "kernelspec": {
   "name": "python37464bitbaseconda4a4eef5c921a4747a14d73bcd3654411",
   "display_name": "Python 3.7.4 64-bit ('base': conda)"
  }
 },
 "cells": [
  {
   "cell_type": "code",
   "execution_count": 201,
   "metadata": {},
   "outputs": [],
   "source": [
    "import json\n",
    "import numpy as np"
   ]
  },
  {
   "cell_type": "code",
   "execution_count": 446,
   "metadata": {},
   "outputs": [],
   "source": [
    "class SPN(object):\n",
    "    \n",
    "    def __init__(self, \n",
    "                 file_path='input_spn.txt', \n",
    "                 n_rounds=8):\n",
    "\n",
    "        # Load input file\n",
    "        with open(file_path, 'r') as f:\n",
    "            self.inputs = json.loads(\" \".join(line.strip() for line in f))\n",
    "        self.key = self.inputs['key']\n",
    "        self.s_box= self.inputs['s-box']\n",
    "        # Reversed S-box for decryption\n",
    "        self.s_box_reverse = {v: k for k, v in self.s_box.items()}\n",
    "        self.p_function = self.inputs['permutation function']\n",
    "        self.x = self.inputs['x (or output)']\n",
    "        self.decrypt = self.inputs['a']\n",
    "        self.n_rounds = n_rounds\n",
    "\n",
    "        # Convert hexadecimal inputs to binary\n",
    "        key_b = self.hex_2_b(self.key)\n",
    "        self.key = [[int(b) for b in key_b[i:i+32]] for i in range(0, len(key_b), 32)]\n",
    "        x_b = self.hex_2_b(self.x)\n",
    "        self.x = [[int(b) for b in x_b[i:i+32]] for i in range(0, len(x_b), 32)]\n",
    "\n",
    "    def hex_2_b(self, hex_string: str):\n",
    "        \"\"\"Convert hexadecimal to binary.\"\"\"\n",
    "        return ''.join(['{0:04b}'.format(int(s, 16)) for s in hex_string])\n",
    "\n",
    "    def b_2_hex(self, b_string: str):\n",
    "        \"\"\"Convert binary to hexadecimal.\"\"\"\n",
    "        len_string = len(b_string)\n",
    "        return ''.join(['{:x}'.format(int(b_string[i:i+4], 2)) for i in range(0, len_string, 4)])\n",
    "    \n",
    "    def xor(self, x_list: list, k_list: list):\n",
    "        \"\"\"Element-wise XOR calculation.\"\"\"\n",
    "        cipher = []\n",
    "        for x_bit, k_bit in zip(x_list, k_list):\n",
    "            cipher.append(x_bit ^ k_bit)\n",
    "        return cipher\n",
    "    \n",
    "    def s_box_transform(self, input_x: list):\n",
    "        \"\"\"Transfrom the input by S-box or reversed S-box.\"\"\"\n",
    "        y = []\n",
    "        x_hex = self.b_2_hex \n",
    "        for i in range(0, len(input_x), 8):\n",
    "            x_part = input_x[i:i+8]\n",
    "            hex_x_part = self.b_2_hex(''.join([str(x_bit) for x_bit in x_part]))\n",
    "            # Decryption mode\n",
    "            if self.decrypt:\n",
    "                hex_y_part = self.s_box_reverse[hex_x_part]\n",
    "            # Encryption mode\n",
    "            else:\n",
    "                hex_y_part = self.s_box[hex_x_part]\n",
    "            y_part = [int(b) for b in self.hex_2_b(hex_y_part)]\n",
    "            y.extend(y_part)\n",
    "        return y\n",
    "\n",
    "    def permute(self, input_x: list):\n",
    "        \"\"\"Permute bits of the input by permutation function.\"\"\"\n",
    "        new_x = np.zeros(len(input_x), dtype=int)\n",
    "        for i, j in self.p_function:\n",
    "            # Decryption mode\n",
    "            if self.decrypt:\n",
    "                new_x[i] = input_x[j]\n",
    "            # Encryption mode\n",
    "            else:\n",
    "                new_x[j] = input_x[i]\n",
    "        return new_x\n",
    "    \n",
    "    def encrypt_run(self):\n",
    "        \"\"\"Encryption.\"\"\"\n",
    "        cipher = []\n",
    "        for x_i in self.x:\n",
    "            cipher_i = x_i\n",
    "            for i in range(self.n_rounds):\n",
    "                cipher_i = self.xor(cipher_i, self.key[i])\n",
    "                cipher_i = self.s_box_transform(cipher_i)\n",
    "                if i != self.n_rounds - 1:\n",
    "                    cipher_i = self.permute(cipher_i)\n",
    "                else:\n",
    "                    cipher_i = self.xor(cipher_i, self.key[-1])\n",
    "            cipher.extend(cipher_i)\n",
    "        return cipher\n",
    "    \n",
    "    def decrypt_run(self):\n",
    "        \"\"\"Decryption.\"\"\"\n",
    "        text = []\n",
    "        for x_i in self.x:\n",
    "            text_i = x_i\n",
    "            for i in range(self.n_rounds):\n",
    "                if i != 0:\n",
    "                    text_i = self.permute(text_i)\n",
    "                else:\n",
    "                    text_i = self.xorå(text_i, self.key[-1])\n",
    "                text_i = self.s_box_transform(text_i)\n",
    "                text_i = self.xor(text_i, self.key[-i-2])\n",
    "            text.extend(text_i)\n",
    "        return text\n",
    "\n",
    "    def run(self):\n",
    "        \"\"\"Running.\"\"\"\n",
    "        # Decryption mode\n",
    "        if self.decrypt:\n",
    "            result = self.decrypt_run()\n",
    "        # Encryption mode\n",
    "        else:\n",
    "            result = self.encrypt_run()\n",
    "        \n",
    "        # Convert the result from binary to hexadecimal\n",
    "        result = b_2_hex(''.join([str(i) for i in result]))\n",
    "\n",
    "        # Print out information\n",
    "        print('-' * 80)\n",
    "        print('Mode        : {}'.format('Decryption' if self.decrypt else 'Encrytion'))\n",
    "        print('Key         :', self.inputs['key'])\n",
    "        print('Input {}:'.format('cipher' if self.decrypt else 'text  '), self.inputs['x (or output)'])\n",
    "        print('Onput {}:'.format('text  ' if self.decrypt else 'cipher'), result)\n",
    "        print('-' * 80)\n",
    "\n",
    "        # Update and save the output file\n",
    "        outputs = self.inputs.copy()\n",
    "        outputs['x (or output)'] = result\n",
    "        outputs['a'] = self.decrypt ^ 1\n",
    "        with open('output_spn.txt', 'w') as f:\n",
    "            json.dump(outputs, f, indent=4)\n",
    "        "
   ]
  },
  {
   "cell_type": "code",
   "execution_count": 447,
   "metadata": {},
   "outputs": [
    {
     "output_type": "stream",
     "name": "stdout",
     "text": "--------------------------------------------------------------------------------\nMode        : Encrytion\nKey         : 1a2b3c4d5e6f7a8b9c1a2b3c4d5e6f7a8b9c1a2b3c4d5e6f7a8b9c1a2b3c4d5e6f7a8b9c\nInput text  : 3a4b5c6d8e8e996678785299cbfdecab\nOnput cipher: 4b13ef56dd443a7d052acdb83e1cabcc\n--------------------------------------------------------------------------------\n"
    }
   ],
   "source": [
    "SPN(file_path='input_spn.txt').run()"
   ]
  },
  {
   "cell_type": "code",
   "execution_count": 448,
   "metadata": {},
   "outputs": [
    {
     "output_type": "stream",
     "name": "stdout",
     "text": "--------------------------------------------------------------------------------\nMode        : Decryption\nKey         : 1a2b3c4d5e6f7a8b9c1a2b3c4d5e6f7a8b9c1a2b3c4d5e6f7a8b9c1a2b3c4d5e6f7a8b9c\nInput cipher: 4b13ef56dd443a7d052acdb83e1cabcc\nOnput text  : 3a4b5c6d8e8e996678785299cbfdecab\n--------------------------------------------------------------------------------\n"
    }
   ],
   "source": [
    "SPN(file_path='output_spn.txt').run()"
   ]
  },
  {
   "cell_type": "code",
   "execution_count": 341,
   "metadata": {},
   "outputs": [
    {
     "data": {
      "text/plain": "'0001100010111010000100011011011100011000101000111011101100011101'"
     },
     "execution_count": 341,
     "metadata": {},
     "output_type": "execute_result"
    }
   ],
   "source": [
    "SPN().hex_2_b('18ba11b718a3bb1d')"
   ]
  },
  {
   "cell_type": "code",
   "execution_count": 390,
   "metadata": {},
   "outputs": [
    {
     "data": {
      "text/plain": "'200'"
     },
     "execution_count": 390,
     "metadata": {},
     "output_type": "execute_result"
    }
   ],
   "source": [
    "SPN().b_2_hex('001000000')"
   ]
  },
  {
   "cell_type": "code",
   "execution_count": 373,
   "metadata": {},
   "outputs": [],
   "source": [
    "a= {'1': 1, '2': 3}"
   ]
  },
  {
   "cell_type": "code",
   "execution_count": 376,
   "metadata": {},
   "outputs": [
    {
     "name": "stdout",
     "output_type": "stream",
     "text": "('1', 1)\n('2', 3)\n"
    }
   ],
   "source": [
    "for i in a.items(): print(i)"
   ]
  },
  {
   "cell_type": "code",
   "execution_count": null,
   "metadata": {},
   "outputs": [],
   "source": []
  }
 ]
}